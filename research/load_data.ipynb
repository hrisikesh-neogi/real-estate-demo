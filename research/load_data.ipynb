{
 "cells": [
  {
   "cell_type": "code",
   "execution_count": 1,
   "metadata": {},
   "outputs": [],
   "source": [
    "import os \n",
    "from dotenv import load_dotenv\n",
    "os.chdir(\"..\")"
   ]
  },
  {
   "cell_type": "code",
   "execution_count": null,
   "metadata": {},
   "outputs": [],
   "source": [
    "import pandas as pd\n",
    "import sqlite3\n",
    "\n",
    "def load_csv_to_db(csv_file_path, table_name):\n",
    "    \"\"\"\n",
    "    Loads data from a CSV file into an SQLite database.\n",
    "\n",
    "    Parameters:\n",
    "    csv_file_path (str): Path to the CSV file.\n",
    "    table_name (str): Name of the table where data will be dumped.\n",
    "\n",
    "    Returns:\n",
    "    None\n",
    "    \"\"\"\n",
    "    # Connect to the SQLite database (creates the file if it doesn't exist)\n",
    "    conn = sqlite3.connect(\"real_estate.db\")\n",
    "    \n",
    "    try:\n",
    "        # Read the CSV file into a Pandas DataFrame\n",
    "        df = pd.read_csv(csv_file_path)\n",
    "        \n",
    "\n",
    "        # Dump the DataFrame into the SQLite table\n",
    "        df.to_sql(table_name, conn, if_exists='replace', index=False)\n",
    "\n",
    "        print(f\"Data successfully loaded into table '{table_name}' in 'real_estate.db'.\")\n",
    "    except Exception as e:\n",
    "        print(f\"An error occurred: {e}\")\n",
    "    finally:\n",
    "        # Close the connection\n",
    "        conn.close()\n",
    "\n",
    "# Example usage\n",
    "# load_csv_to_db('data.csv', 'properties')"
   ]
  },
  {
   "cell_type": "code",
   "execution_count": 4,
   "metadata": {},
   "outputs": [],
   "source": [
    "rent_data = \"Investment rent_collection_sample_with_historic_payments.csv\"\n",
    "lease_data = \"tenant_propery_owner_lease_rent_details.csv\""
   ]
  },
  {
   "cell_type": "code",
   "execution_count": 5,
   "metadata": {},
   "outputs": [
    {
     "name": "stdout",
     "output_type": "stream",
     "text": [
      "Data successfully loaded into table 'rent_table' in 'real_estate.db'.\n",
      "Rent data uploaded\n",
      "Data successfully loaded into table 'lease_table' in 'real_estate.db'.\n",
      "lease data uploaded\n"
     ]
    }
   ],
   "source": [
    "load_csv_to_db(rent_data, \"rent_table\")\n",
    "print(\"Rent data uploaded\")\n",
    "load_csv_to_db(lease_data,\"lease_table\")\n",
    "print(\"lease data uploaded\")"
   ]
  },
  {
   "cell_type": "code",
   "execution_count": 27,
   "metadata": {},
   "outputs": [
    {
     "data": {
      "text/plain": [
       "Index(['tenant_name', 'apartment_number', 'lease_start_date', 'lease_end_date',\n",
       "       'payment_date', 'payment_status', 'delay_days', 'tenant_email',\n",
       "       'zip_code'],\n",
       "      dtype='object')"
      ]
     },
     "execution_count": 27,
     "metadata": {},
     "output_type": "execute_result"
    }
   ],
   "source": [
    "pd.read_csv(rent_data).columns"
   ]
  },
  {
   "cell_type": "code",
   "execution_count": 26,
   "metadata": {},
   "outputs": [
    {
     "data": {
      "text/plain": [
       "Index(['tenant_name', 'apartment_number', 'email', 'tenant_phone', 'tenant_id',\n",
       "       'rental_amount', 'payment_date', 'due_date', 'status', 'city',\n",
       "       'apartment_building', 'lease_start_date', 'lease_end_date',\n",
       "       'lease_terms_conditions', 'renewal_terms_conditions', 'owner_name',\n",
       "       'owner_email', 'owner_contact_number'],\n",
       "      dtype='object')"
      ]
     },
     "execution_count": 26,
     "metadata": {},
     "output_type": "execute_result"
    }
   ],
   "source": [
    "pd.read_csv(lease_data).columns"
   ]
  },
  {
   "cell_type": "code",
   "execution_count": null,
   "metadata": {},
   "outputs": [],
   "source": []
  }
 ],
 "metadata": {
  "kernelspec": {
   "display_name": "Python 3",
   "language": "python",
   "name": "python3"
  },
  "language_info": {
   "codemirror_mode": {
    "name": "ipython",
    "version": 3
   },
   "file_extension": ".py",
   "mimetype": "text/x-python",
   "name": "python",
   "nbconvert_exporter": "python",
   "pygments_lexer": "ipython3",
   "version": "3.10.16"
  }
 },
 "nbformat": 4,
 "nbformat_minor": 2
}
